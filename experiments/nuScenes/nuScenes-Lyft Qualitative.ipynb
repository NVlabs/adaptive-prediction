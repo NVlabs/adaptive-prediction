{
 "cells": [
  {
   "cell_type": "markdown",
   "metadata": {},
   "source": [
    "# Online Adaptive Forecasting"
   ]
  },
  {
   "cell_type": "code",
   "execution_count": 1,
   "metadata": {},
   "outputs": [],
   "source": [
    "%load_ext autoreload\n",
    "%autoreload 2\n",
    "\n",
    "import re\n",
    "import os\n",
    "import json\n",
    "import torch\n",
    "import numpy as np\n",
    "import matplotlib.pyplot as plt\n",
    "import trajdata.visualization.vis as trajdata_vis\n",
    "\n",
    "from torch.utils import data\n",
    "from tqdm.notebook import tqdm\n",
    "from trajectron.model.model_registrar import ModelRegistrar\n",
    "from trajectron.model.model_utils import UpdateMode\n",
    "from trajectron.model.trajectron import Trajectron\n",
    "from collections import defaultdict\n",
    "from pathlib import Path\n",
    "from typing import DefaultDict, Dict, Final, List, Optional, Union\n",
    "from trajdata import UnifiedDataset, AgentType, AgentBatch\n",
    "\n",
    "seed = 0\n",
    "np.random.seed(seed)\n",
    "torch.manual_seed(seed)\n",
    "if torch.cuda.is_available():\n",
    "    torch.cuda.manual_seed_all(seed)"
   ]
  },
  {
   "cell_type": "code",
   "execution_count": 2,
   "metadata": {},
   "outputs": [],
   "source": [
    "# Change this to suit your computing environment and folder structure!\n",
    "\n",
    "TRAJDATA_CACHE_DIR: Final[str] = \"/home/bivanovic/.unified_data_cache\"\n",
    "LYFT_SAMPLE_RAW_DATA_DIR: Final[str] = \"/home/bivanovic/datasets/lyft/scenes/sample.zarr\""
   ]
  },
  {
   "cell_type": "code",
   "execution_count": 3,
   "metadata": {},
   "outputs": [],
   "source": [
    "base_model = \"models/nusc_mm_base_tpp-11_Sep_2022_19_15_45\"\n",
    "k0_model = \"models/nusc_mm_k0_tpp-12_Sep_2022_00_40_16\"\n",
    "adaptive_model = \"models/nusc_mm_sec4_tpp-13_Sep_2022_11_06_01\"\n",
    "oracle_model = \"models/lyft_mm_base_tpp-11_Sep_2022_18_56_49\"\n",
    "\n",
    "base_checkpoint = 20\n",
    "k0_checkpoint = 20\n",
    "adaptive_checkpoint = 20\n",
    "oracle_checkpoint = 1\n",
    "\n",
    "eval_data = \"lyft_sample-mini_val\"\n",
    "\n",
    "history_sec = 2.0\n",
    "prediction_sec = 6.0"
   ]
  },
  {
   "cell_type": "code",
   "execution_count": 4,
   "metadata": {},
   "outputs": [],
   "source": [
    "AXHLINE_COLORS = {\n",
    "    \"Base\": \"#DD9787\",\n",
    "    \"K0\": \"#A6C48A\",\n",
    "    \"Oracle\": \"#A2999E\"\n",
    "}\n",
    "\n",
    "SEABORN_PALETTE = {\n",
    "    \"Finetune\": \"#AA7C85\",\n",
    "    \"K0\": \"#A6C48A\",\n",
    "    \"Ours+Finetune\": \"#2D93AD\",\n",
    "    \"Ours\": \"#9F9FED\",\n",
    "    \"Base\": \"#DD9787\",\n",
    "    \"K0+Finetune\": \"#67934D\",\n",
    "    \"Oracle\": \"#A2999E\"\n",
    "}"
   ]
  },
  {
   "cell_type": "code",
   "execution_count": 5,
   "metadata": {},
   "outputs": [],
   "source": [
    "def load_model(model_dir: str, device: str, epoch: int = 10, custom_hyperparams: Optional[Dict] = None):\n",
    "    save_path = Path(model_dir) / f'model_registrar-{epoch}.pt'\n",
    "\n",
    "    model_registrar = ModelRegistrar(model_dir, device)\n",
    "    with open(os.path.join(model_dir, 'config.json'), 'r') as config_json:\n",
    "        hyperparams = json.load(config_json)\n",
    "        \n",
    "    if custom_hyperparams is not None:\n",
    "        hyperparams.update(custom_hyperparams)\n",
    "\n",
    "    trajectron = Trajectron(model_registrar, hyperparams, None, device)\n",
    "    trajectron.set_environment()\n",
    "    trajectron.set_annealing_params()\n",
    "\n",
    "    checkpoint = torch.load(save_path, map_location=device)\n",
    "    trajectron.load_state_dict(checkpoint[\"model_state_dict\"], strict=False)\n",
    "\n",
    "    return trajectron, hyperparams"
   ]
  },
  {
   "cell_type": "code",
   "execution_count": 6,
   "metadata": {},
   "outputs": [],
   "source": [
    "if torch.cuda.is_available():\n",
    "    device = 'cuda:0'\n",
    "    torch.cuda.set_device(0)\n",
    "else:\n",
    "    device = 'cpu'"
   ]
  },
  {
   "cell_type": "code",
   "execution_count": 7,
   "metadata": {},
   "outputs": [
    {
     "name": "stdout",
     "output_type": "stream",
     "text": [
      "Loading data for matched scene tags: ['mini_val-lyft_sample-palo_alto']\n"
     ]
    },
    {
     "name": "stderr",
     "output_type": "stream",
     "text": [
      "Calculating Agent Data (Serially): 100%|██████████████████████████████████████████████████████████████████████| 20/20 [00:00<00:00, 49373.80it/s]\n"
     ]
    },
    {
     "name": "stdout",
     "output_type": "stream",
     "text": [
      "20 scenes in the scene index.\n"
     ]
    },
    {
     "name": "stderr",
     "output_type": "stream",
     "text": [
      "Creating Agent Data Index (Serially): 100%|█████████████████████████████████████████████████████████████████████| 20/20 [00:00<00:00, 512.70it/s]\n",
      "Structuring Agent Data Index: 100%|███████████████████████████████████████████████████████████████████████████| 20/20 [00:00<00:00, 23405.71it/s]"
     ]
    },
    {
     "name": "stdout",
     "output_type": "stream",
     "text": [
      "Loading data for matched scene tags: ['mini_val-lyft_sample-palo_alto']\n"
     ]
    },
    {
     "name": "stderr",
     "output_type": "stream",
     "text": [
      "\n",
      "Calculating Agent Data (Serially): 100%|██████████████████████████████████████████████████████████████████████| 20/20 [00:00<00:00, 50594.74it/s]\n"
     ]
    },
    {
     "name": "stdout",
     "output_type": "stream",
     "text": [
      "20 scenes in the scene index.\n"
     ]
    },
    {
     "name": "stderr",
     "output_type": "stream",
     "text": [
      "Creating Agent Data Index (Serially): 100%|█████████████████████████████████████████████████████████████████████| 20/20 [00:00<00:00, 538.92it/s]\n",
      "Structuring Agent Data Index: 100%|███████████████████████████████████████████████████████████████████████████| 20/20 [00:00<00:00, 21503.74it/s]\n"
     ]
    }
   ],
   "source": [
    "adaptive_trajectron, hyperparams = load_model(\n",
    "    adaptive_model, device, epoch=adaptive_checkpoint,\n",
    "    custom_hyperparams={\"trajdata_cache_dir\": TRAJDATA_CACHE_DIR,\n",
    "                        \"single_mode_multi_sample\": True}\n",
    ")\n",
    "\n",
    "# Load training and evaluation environments and scenes\n",
    "attention_radius = defaultdict(lambda: 20.0) # Default range is 20m unless otherwise specified.\n",
    "attention_radius[(AgentType.PEDESTRIAN, AgentType.PEDESTRIAN)] = 10.0\n",
    "attention_radius[(AgentType.PEDESTRIAN, AgentType.VEHICLE)] = 20.0\n",
    "attention_radius[(AgentType.VEHICLE, AgentType.PEDESTRIAN)] = 20.0\n",
    "attention_radius[(AgentType.VEHICLE, AgentType.VEHICLE)] = 30.0\n",
    "\n",
    "map_params = {\"px_per_m\": 2, \"map_size_px\": 100, \"offset_frac_xy\": (-0.75, 0.0)}\n",
    "\n",
    "online_eval_dataset = UnifiedDataset(\n",
    "    desired_data=[eval_data],\n",
    "    # desired_dt=0.5,\n",
    "    history_sec=(0.1, history_sec),\n",
    "    future_sec=(prediction_sec, prediction_sec),\n",
    "    agent_interaction_distances=attention_radius,\n",
    "    incl_robot_future=hyperparams['incl_robot_node'],\n",
    "    incl_raster_map=hyperparams['map_encoding'],\n",
    "    raster_map_params=map_params,\n",
    "    only_predict=[AgentType.VEHICLE],\n",
    "    no_types=[AgentType.UNKNOWN],\n",
    "    num_workers=0,\n",
    "    cache_location=TRAJDATA_CACHE_DIR,\n",
    "    data_dirs={\n",
    "        \"lyft_sample\": LYFT_SAMPLE_RAW_DATA_DIR,\n",
    "    },\n",
    "    verbose=True\n",
    ")\n",
    "\n",
    "batch_eval_dataset = UnifiedDataset(\n",
    "    desired_data=[eval_data],\n",
    "    # desired_dt=0.5,\n",
    "    history_sec=(history_sec, history_sec),\n",
    "    future_sec=(prediction_sec, prediction_sec),\n",
    "    agent_interaction_distances=attention_radius,\n",
    "    incl_robot_future=hyperparams['incl_robot_node'],\n",
    "    incl_raster_map=hyperparams['map_encoding'],\n",
    "    raster_map_params=map_params,\n",
    "    only_predict=[AgentType.VEHICLE],\n",
    "    no_types=[AgentType.UNKNOWN],\n",
    "    num_workers=0,\n",
    "    cache_location=TRAJDATA_CACHE_DIR,\n",
    "    data_dirs={\n",
    "        \"lyft_sample\": LYFT_SAMPLE_RAW_DATA_DIR,\n",
    "    },\n",
    "    verbose=True\n",
    ")"
   ]
  },
  {
   "cell_type": "code",
   "execution_count": 8,
   "metadata": {},
   "outputs": [],
   "source": [
    "def get_dataloader(\n",
    "    eval_dataset: UnifiedDataset,\n",
    "    batch_size: int = 128,\n",
    "    num_workers: int = 0,\n",
    "    shuffle: bool = False\n",
    "):\n",
    "    return data.DataLoader(\n",
    "        eval_dataset,\n",
    "        collate_fn=eval_dataset.get_collate_fn(pad_format=\"right\"),\n",
    "        pin_memory=False if device == 'cpu' else True,\n",
    "        batch_size=batch_size,\n",
    "        shuffle=shuffle,\n",
    "        num_workers=num_workers\n",
    "    )"
   ]
  },
  {
   "cell_type": "code",
   "execution_count": 9,
   "metadata": {},
   "outputs": [],
   "source": [
    "metrics_list = [\"ml_ade\", \"ml_fde\", \"nll_mean\", \"min_ade_5\", \"min_ade_10\"]"
   ]
  },
  {
   "cell_type": "markdown",
   "metadata": {
    "tags": []
   },
   "source": [
    "## Online (Per Agent) Plotting"
   ]
  },
  {
   "cell_type": "code",
   "execution_count": 10,
   "metadata": {},
   "outputs": [],
   "source": [
    "import matplotlib.patches as patches\n",
    "from scipy import linalg\n",
    "\n",
    "prog = re.compile(\"(.*)/(?P<scene_name>.*)/(.*)$\")\n",
    "\n",
    "def plot_outputs(\n",
    "    eval_dataset: UnifiedDataset,\n",
    "    dataset_idx: int,\n",
    "    model: Trajectron,\n",
    "    model_name: str,\n",
    "    agent_ts: int,\n",
    "    save=True,\n",
    "    extra_str=None,\n",
    "    subfolder=\"\",\n",
    "    filetype=\"png\"\n",
    "):\n",
    "    num_modes = 5\n",
    "    plot_every = 1\n",
    "    plot_square_radius = 75\n",
    "    pred_horizon = 30\n",
    "    batch: AgentBatch = eval_dataset.get_collate_fn(pad_format=\"right\")([eval_dataset[dataset_idx]])\n",
    "    batch_idx = 0\n",
    "\n",
    "    fig, ax = plt.subplots(dpi=150)\n",
    "    # NOTE: To exactly reproduce the figure from our paper, you must edit the trajdata_vis.plot_agent_batch function\n",
    "    # to accept an optional future_horizon (int) argument which truncates plotting to only the future future_horizon timesteps\n",
    "    # (otherwise it can be a but hard to read the figure when full-length predictions and futures are plotted).\n",
    "    # After making the above change, please add future_horizon=pred_horizon to the plot_agent_batch arguments.\n",
    "    trajdata_vis.plot_agent_batch(batch, batch_idx=batch_idx, ax=ax, show=False, close=False)\n",
    "\n",
    "    scene_info_path, _, scene_ts = eval_dataset._data_index[dataset_idx]\n",
    "    scene_name = prog.match(scene_info_path).group(\"scene_name\")\n",
    "    \n",
    "    agent_name = batch.agent_name[0]\n",
    "    agent_type_name = f\"{str(AgentType(batch.agent_type[0].item()))}/{agent_name}\"\n",
    "    print(dataset_idx, scene_name, scene_ts, agent_type_name)\n",
    "\n",
    "    with torch.no_grad():\n",
    "        predictions = model.predict(batch,\n",
    "                                    z_mode=True,\n",
    "                                    gmm_mode=True,\n",
    "                                    full_dist=False,\n",
    "                                    output_dists=False)\n",
    "        prediction = next(iter(predictions.values()))\n",
    "        \n",
    "        prediction_distribution_dict, _ = model.predict(batch,\n",
    "                                      z_mode=False,\n",
    "                                      gmm_mode=False,\n",
    "                                      full_dist=True,\n",
    "                                      output_dists=True)\n",
    "        pred_dist = next(iter(prediction_distribution_dict.values()))\n",
    "    \n",
    "    pi_threshold = 0.0\n",
    "    \n",
    "    batch.to(\"cpu\")\n",
    "        \n",
    "    if pred_dist.mus.shape[:2] != (1, 1):\n",
    "        return\n",
    "\n",
    "    means = pred_dist.mus[batch_idx, 0].cpu().numpy()\n",
    "    covs = pred_dist.get_covariance_matrix()[batch_idx, 0].cpu().numpy()\n",
    "    pis = pred_dist.pis_cat_dist.probs[batch_idx, 0].cpu().numpy()\n",
    "\n",
    "    ax.plot(\n",
    "        prediction[batch_idx, 0:pred_horizon:plot_every, 0],\n",
    "        prediction[batch_idx, 0:pred_horizon:plot_every, 1],\n",
    "        color='#2D93AD',\n",
    "        alpha=1,\n",
    "        label=\"Most Likely\"\n",
    "    )\n",
    "    \n",
    "    for z_val in range(min(num_modes, means.shape[1])):\n",
    "        # All pis are the same across time.\n",
    "        pi = pis[0, z_val]\n",
    "        \n",
    "        if pi < pi_threshold:\n",
    "            continue\n",
    "\n",
    "        color = '#9F9FED'\n",
    "\n",
    "        alpha_val = pi\n",
    "        ax.plot(means[0:pred_horizon:plot_every, z_val, 0], means[0:pred_horizon:plot_every, z_val, 1],\n",
    "                    color=color,\n",
    "                    alpha=alpha_val)\n",
    "\n",
    "        for timestep in range(0, min(pred_horizon, means.shape[0]), plot_every):\n",
    "            mean = means[timestep, z_val]\n",
    "            covar = covs[timestep, z_val]\n",
    "\n",
    "            v, w = linalg.eigh(covar)\n",
    "            v = 2. * np.sqrt(2.) * np.sqrt(v)\n",
    "            u = w[0] / linalg.norm(w[0])\n",
    "\n",
    "            # Plot an ellipse to show the Gaussian component\n",
    "            angle = np.arctan2(u[1], u[0])\n",
    "            angle = 180. * angle / np.pi  # convert to degrees\n",
    "            ell = patches.Ellipse(mean, v[0], v[1], 180. + angle,\n",
    "                                    color=color)\n",
    "            ell.set_edgecolor(None)\n",
    "            ell.set_clip_box(ax.bbox)\n",
    "            ell.set_alpha(alpha_val)\n",
    "            ax.add_artist(ell)\n",
    "    \n",
    "    # batch_eval: Dict[str, torch.Tensor] = evaluation.compute_batch_statistics_pt(\n",
    "    #     batch.agent_fut[..., :2],\n",
    "    #     prediction_output_dict=torch.from_numpy(prediction),\n",
    "    #     y_dists=pred_dist\n",
    "    # )\n",
    "    \n",
    "    ax.set_title(None)\n",
    "    # ax.set_title(f\"{scene_name}/t={scene_ts} {agent_type_name}\")\n",
    "    offset = 20\n",
    "    ax.set_xlim((-plot_square_radius+offset, plot_square_radius+offset))\n",
    "    ax.set_ylim((-plot_square_radius, plot_square_radius))\n",
    "    # ax.set_aspect('auto')\n",
    "    \n",
    "    ax.axis('off')\n",
    "    # ax.set_xticklabels([])\n",
    "    # ax.set_yticklabels([])\n",
    "    # ax.set_xlabel(None)\n",
    "    # ax.set_ylabel(None)\n",
    "    \n",
    "    ax.legend(bbox_to_anchor=(1.04, 0.5), loc=\"best\", borderaxespad=0, frameon=False)\n",
    "    # print(model_name, extra_str, batch_eval)\n",
    "    \n",
    "    if save:\n",
    "        fname = f\"figures/{subfolder}{model_name}_{scene_name}_{agent_name}_t{agent_ts}\"\n",
    "        if extra_str:\n",
    "            fname += \"_\" + extra_str\n",
    "        fig.savefig(fname + f\".{filetype}\", bbox_inches=\"tight\")\n",
    "        \n",
    "        plt.close(fig)"
   ]
  },
  {
   "cell_type": "code",
   "execution_count": 11,
   "metadata": {},
   "outputs": [],
   "source": [
    "def per_agent_plot(\n",
    "    model: Trajectron,\n",
    "    model_name: str,\n",
    "    batch: AgentBatch,\n",
    "    agent_ts: int,\n",
    "    plot=True,\n",
    "):\n",
    "    with torch.no_grad():\n",
    "        if plot:\n",
    "            plot_outputs(online_eval_dataset,\n",
    "                         dataset_idx=batch.data_idx[0].item(),\n",
    "                         model=model,\n",
    "                         model_name=model_name,\n",
    "                         agent_ts=agent_ts)"
   ]
  },
  {
   "cell_type": "code",
   "execution_count": 12,
   "metadata": {},
   "outputs": [
    {
     "data": {
      "application/json": {
       "ascii": false,
       "bar_format": null,
       "colour": null,
       "elapsed": 0.005034923553466797,
       "initial": 0,
       "n": 0,
       "ncols": null,
       "nrows": 57,
       "postfix": null,
       "prefix": "Adaptive Eval PH=6.0",
       "rate": null,
       "total": 1001,
       "unit": "it",
       "unit_divisor": 1000,
       "unit_scale": false
      },
      "application/vnd.jupyter.widget-view+json": {
       "model_id": "14cb151e5efc4e01a6e77a6db0142cf4",
       "version_major": 2,
       "version_minor": 0
      },
      "text/plain": [
       "Adaptive Eval PH=6.0:   0%|          | 0/1001 [00:00<?, ?it/s]"
      ]
     },
     "metadata": {},
     "output_type": "display_data"
    },
    {
     "name": "stdout",
     "output_type": "stream",
     "text": [
      "0 scene-0007 1 AgentType.VEHICLE/ego\n",
      "1 scene-0007 2 AgentType.VEHICLE/ego\n",
      "2 scene-0007 3 AgentType.VEHICLE/ego\n",
      "3 scene-0007 4 AgentType.VEHICLE/ego\n",
      "4 scene-0007 5 AgentType.VEHICLE/ego\n",
      "5 scene-0007 6 AgentType.VEHICLE/ego\n",
      "6 scene-0007 7 AgentType.VEHICLE/ego\n"
     ]
    },
    {
     "ename": "KeyboardInterrupt",
     "evalue": "",
     "output_type": "error",
     "traceback": [
      "\u001b[0;31m---------------------------------------------------------------------------\u001b[0m",
      "\u001b[0;31mKeyboardInterrupt\u001b[0m                         Traceback (most recent call last)",
      "Cell \u001b[0;32mIn[12], line 57\u001b[0m\n\u001b[1;32m     50\u001b[0m \u001b[38;5;66;03m# finetune_update(finetune_trajectron, online_batch)\u001b[39;00m\n\u001b[1;32m     51\u001b[0m \u001b[38;5;66;03m# finetune_last_layer_update(k0_finetune_trajectron, online_batch)\u001b[39;00m\n\u001b[1;32m     52\u001b[0m \n\u001b[1;32m     53\u001b[0m \u001b[38;5;66;03m# # This is effectively measuring number of updates/observed data points.\u001b[39;00m\n\u001b[1;32m     54\u001b[0m \u001b[38;5;66;03m# agent_ts += 1\u001b[39;00m\n\u001b[1;32m     56\u001b[0m \u001b[38;5;28;01mif\u001b[39;00m agent_ts \u001b[38;5;241m%\u001b[39m \u001b[38;5;241m1\u001b[39m \u001b[38;5;241m==\u001b[39m \u001b[38;5;241m0\u001b[39m:\n\u001b[0;32m---> 57\u001b[0m     \u001b[43mper_agent_plot\u001b[49m\u001b[43m(\u001b[49m\u001b[43madaptive_trajectron\u001b[49m\u001b[43m,\u001b[49m\u001b[43m \u001b[49m\u001b[38;5;124;43m\"\u001b[39;49m\u001b[38;5;124;43mOurs\u001b[39;49m\u001b[38;5;124;43m\"\u001b[39;49m\u001b[43m,\u001b[49m\u001b[43m \u001b[49m\u001b[43monline_batch\u001b[49m\u001b[43m,\u001b[49m\u001b[43m \u001b[49m\u001b[43magent_ts\u001b[49m\u001b[43m,\u001b[49m\u001b[43m \u001b[49m\u001b[43mplot\u001b[49m\u001b[38;5;241;43m=\u001b[39;49m\u001b[43mplot_per_step\u001b[49m\u001b[43m)\u001b[49m\n\u001b[1;32m     59\u001b[0m \u001b[38;5;66;03m# This is effectively measuring the most-recently seen timestep.\u001b[39;00m\n\u001b[1;32m     60\u001b[0m agent_ts \u001b[38;5;241m+\u001b[39m\u001b[38;5;241m=\u001b[39m \u001b[38;5;241m1\u001b[39m\n",
      "Cell \u001b[0;32mIn[11], line 10\u001b[0m, in \u001b[0;36mper_agent_plot\u001b[0;34m(model, model_name, batch, agent_ts, plot)\u001b[0m\n\u001b[1;32m      8\u001b[0m \u001b[38;5;28;01mwith\u001b[39;00m torch\u001b[38;5;241m.\u001b[39mno_grad():\n\u001b[1;32m      9\u001b[0m     \u001b[38;5;28;01mif\u001b[39;00m plot:\n\u001b[0;32m---> 10\u001b[0m         \u001b[43mplot_outputs\u001b[49m\u001b[43m(\u001b[49m\u001b[43monline_eval_dataset\u001b[49m\u001b[43m,\u001b[49m\n\u001b[1;32m     11\u001b[0m \u001b[43m                     \u001b[49m\u001b[43mdataset_idx\u001b[49m\u001b[38;5;241;43m=\u001b[39;49m\u001b[43mbatch\u001b[49m\u001b[38;5;241;43m.\u001b[39;49m\u001b[43mdata_idx\u001b[49m\u001b[43m[\u001b[49m\u001b[38;5;241;43m0\u001b[39;49m\u001b[43m]\u001b[49m\u001b[38;5;241;43m.\u001b[39;49m\u001b[43mitem\u001b[49m\u001b[43m(\u001b[49m\u001b[43m)\u001b[49m\u001b[43m,\u001b[49m\n\u001b[1;32m     12\u001b[0m \u001b[43m                     \u001b[49m\u001b[43mmodel\u001b[49m\u001b[38;5;241;43m=\u001b[39;49m\u001b[43mmodel\u001b[49m\u001b[43m,\u001b[49m\n\u001b[1;32m     13\u001b[0m \u001b[43m                     \u001b[49m\u001b[43mmodel_name\u001b[49m\u001b[38;5;241;43m=\u001b[39;49m\u001b[43mmodel_name\u001b[49m\u001b[43m,\u001b[49m\n\u001b[1;32m     14\u001b[0m \u001b[43m                     \u001b[49m\u001b[43magent_ts\u001b[49m\u001b[38;5;241;43m=\u001b[39;49m\u001b[43magent_ts\u001b[49m\u001b[43m)\u001b[49m\n",
      "Cell \u001b[0;32mIn[10], line 130\u001b[0m, in \u001b[0;36mplot_outputs\u001b[0;34m(eval_dataset, dataset_idx, model, model_name, agent_ts, save, extra_str, subfolder, filetype)\u001b[0m\n\u001b[1;32m    128\u001b[0m \u001b[38;5;28;01mif\u001b[39;00m extra_str:\n\u001b[1;32m    129\u001b[0m     fname \u001b[38;5;241m+\u001b[39m\u001b[38;5;241m=\u001b[39m \u001b[38;5;124m\"\u001b[39m\u001b[38;5;124m_\u001b[39m\u001b[38;5;124m\"\u001b[39m \u001b[38;5;241m+\u001b[39m extra_str\n\u001b[0;32m--> 130\u001b[0m \u001b[43mfig\u001b[49m\u001b[38;5;241;43m.\u001b[39;49m\u001b[43msavefig\u001b[49m\u001b[43m(\u001b[49m\u001b[43mfname\u001b[49m\u001b[43m \u001b[49m\u001b[38;5;241;43m+\u001b[39;49m\u001b[43m \u001b[49m\u001b[38;5;124;43mf\u001b[39;49m\u001b[38;5;124;43m\"\u001b[39;49m\u001b[38;5;124;43m.\u001b[39;49m\u001b[38;5;132;43;01m{\u001b[39;49;00m\u001b[43mfiletype\u001b[49m\u001b[38;5;132;43;01m}\u001b[39;49;00m\u001b[38;5;124;43m\"\u001b[39;49m\u001b[43m,\u001b[49m\u001b[43m \u001b[49m\u001b[43mbbox_inches\u001b[49m\u001b[38;5;241;43m=\u001b[39;49m\u001b[38;5;124;43m\"\u001b[39;49m\u001b[38;5;124;43mtight\u001b[39;49m\u001b[38;5;124;43m\"\u001b[39;49m\u001b[43m)\u001b[49m\n\u001b[1;32m    132\u001b[0m plt\u001b[38;5;241m.\u001b[39mclose(fig)\n",
      "File \u001b[0;32m~/anaconda3/envs/adaptive39/lib/python3.9/site-packages/matplotlib/figure.py:3046\u001b[0m, in \u001b[0;36mFigure.savefig\u001b[0;34m(self, fname, transparent, **kwargs)\u001b[0m\n\u001b[1;32m   3042\u001b[0m     \u001b[38;5;28;01mfor\u001b[39;00m ax \u001b[38;5;129;01min\u001b[39;00m \u001b[38;5;28mself\u001b[39m\u001b[38;5;241m.\u001b[39maxes:\n\u001b[1;32m   3043\u001b[0m         stack\u001b[38;5;241m.\u001b[39menter_context(\n\u001b[1;32m   3044\u001b[0m             ax\u001b[38;5;241m.\u001b[39mpatch\u001b[38;5;241m.\u001b[39m_cm_set(facecolor\u001b[38;5;241m=\u001b[39m\u001b[38;5;124m'\u001b[39m\u001b[38;5;124mnone\u001b[39m\u001b[38;5;124m'\u001b[39m, edgecolor\u001b[38;5;241m=\u001b[39m\u001b[38;5;124m'\u001b[39m\u001b[38;5;124mnone\u001b[39m\u001b[38;5;124m'\u001b[39m))\n\u001b[0;32m-> 3046\u001b[0m \u001b[38;5;28;43mself\u001b[39;49m\u001b[38;5;241;43m.\u001b[39;49m\u001b[43mcanvas\u001b[49m\u001b[38;5;241;43m.\u001b[39;49m\u001b[43mprint_figure\u001b[49m\u001b[43m(\u001b[49m\u001b[43mfname\u001b[49m\u001b[43m,\u001b[49m\u001b[43m \u001b[49m\u001b[38;5;241;43m*\u001b[39;49m\u001b[38;5;241;43m*\u001b[39;49m\u001b[43mkwargs\u001b[49m\u001b[43m)\u001b[49m\n",
      "File \u001b[0;32m~/anaconda3/envs/adaptive39/lib/python3.9/site-packages/matplotlib/backend_bases.py:2299\u001b[0m, in \u001b[0;36mFigureCanvasBase.print_figure\u001b[0;34m(self, filename, dpi, facecolor, edgecolor, orientation, format, bbox_inches, pad_inches, bbox_extra_artists, backend, **kwargs)\u001b[0m\n\u001b[1;32m   2297\u001b[0m \u001b[38;5;28;01mif\u001b[39;00m bbox_inches:\n\u001b[1;32m   2298\u001b[0m     \u001b[38;5;28;01mif\u001b[39;00m bbox_inches \u001b[38;5;241m==\u001b[39m \u001b[38;5;124m\"\u001b[39m\u001b[38;5;124mtight\u001b[39m\u001b[38;5;124m\"\u001b[39m:\n\u001b[0;32m-> 2299\u001b[0m         bbox_inches \u001b[38;5;241m=\u001b[39m \u001b[38;5;28;43mself\u001b[39;49m\u001b[38;5;241;43m.\u001b[39;49m\u001b[43mfigure\u001b[49m\u001b[38;5;241;43m.\u001b[39;49m\u001b[43mget_tightbbox\u001b[49m\u001b[43m(\u001b[49m\n\u001b[1;32m   2300\u001b[0m \u001b[43m            \u001b[49m\u001b[43mrenderer\u001b[49m\u001b[43m,\u001b[49m\u001b[43m \u001b[49m\u001b[43mbbox_extra_artists\u001b[49m\u001b[38;5;241;43m=\u001b[39;49m\u001b[43mbbox_extra_artists\u001b[49m\u001b[43m)\u001b[49m\n\u001b[1;32m   2301\u001b[0m         \u001b[38;5;28;01mif\u001b[39;00m pad_inches \u001b[38;5;129;01mis\u001b[39;00m \u001b[38;5;28;01mNone\u001b[39;00m:\n\u001b[1;32m   2302\u001b[0m             pad_inches \u001b[38;5;241m=\u001b[39m rcParams[\u001b[38;5;124m'\u001b[39m\u001b[38;5;124msavefig.pad_inches\u001b[39m\u001b[38;5;124m'\u001b[39m]\n",
      "File \u001b[0;32m~/anaconda3/envs/adaptive39/lib/python3.9/site-packages/matplotlib/figure.py:1684\u001b[0m, in \u001b[0;36mFigureBase.get_tightbbox\u001b[0;34m(self, renderer, bbox_extra_artists)\u001b[0m\n\u001b[1;32m   1681\u001b[0m     artists \u001b[38;5;241m=\u001b[39m bbox_extra_artists\n\u001b[1;32m   1683\u001b[0m \u001b[38;5;28;01mfor\u001b[39;00m a \u001b[38;5;129;01min\u001b[39;00m artists:\n\u001b[0;32m-> 1684\u001b[0m     bbox \u001b[38;5;241m=\u001b[39m \u001b[43ma\u001b[49m\u001b[38;5;241;43m.\u001b[39;49m\u001b[43mget_tightbbox\u001b[49m\u001b[43m(\u001b[49m\u001b[43mrenderer\u001b[49m\u001b[43m)\u001b[49m\n\u001b[1;32m   1685\u001b[0m     \u001b[38;5;28;01mif\u001b[39;00m bbox \u001b[38;5;129;01mis\u001b[39;00m \u001b[38;5;129;01mnot\u001b[39;00m \u001b[38;5;28;01mNone\u001b[39;00m \u001b[38;5;129;01mand\u001b[39;00m (bbox\u001b[38;5;241m.\u001b[39mwidth \u001b[38;5;241m!=\u001b[39m \u001b[38;5;241m0\u001b[39m \u001b[38;5;129;01mor\u001b[39;00m bbox\u001b[38;5;241m.\u001b[39mheight \u001b[38;5;241m!=\u001b[39m \u001b[38;5;241m0\u001b[39m):\n\u001b[1;32m   1686\u001b[0m         bb\u001b[38;5;241m.\u001b[39mappend(bbox)\n",
      "File \u001b[0;32m~/anaconda3/envs/adaptive39/lib/python3.9/site-packages/matplotlib/axes/_base.py:4675\u001b[0m, in \u001b[0;36m_AxesBase.get_tightbbox\u001b[0;34m(self, renderer, call_axes_locator, bbox_extra_artists, for_layout_only)\u001b[0m\n\u001b[1;32m   4671\u001b[0m     \u001b[38;5;28;01mif\u001b[39;00m np\u001b[38;5;241m.\u001b[39mall(clip_extent\u001b[38;5;241m.\u001b[39mextents \u001b[38;5;241m==\u001b[39m axbbox\u001b[38;5;241m.\u001b[39mextents):\n\u001b[1;32m   4672\u001b[0m         \u001b[38;5;66;03m# clip extent is inside the Axes bbox so don't check\u001b[39;00m\n\u001b[1;32m   4673\u001b[0m         \u001b[38;5;66;03m# this artist\u001b[39;00m\n\u001b[1;32m   4674\u001b[0m         \u001b[38;5;28;01mcontinue\u001b[39;00m\n\u001b[0;32m-> 4675\u001b[0m bbox \u001b[38;5;241m=\u001b[39m \u001b[43ma\u001b[49m\u001b[38;5;241;43m.\u001b[39;49m\u001b[43mget_tightbbox\u001b[49m\u001b[43m(\u001b[49m\u001b[43mrenderer\u001b[49m\u001b[43m)\u001b[49m\n\u001b[1;32m   4676\u001b[0m \u001b[38;5;28;01mif\u001b[39;00m (bbox \u001b[38;5;129;01mis\u001b[39;00m \u001b[38;5;129;01mnot\u001b[39;00m \u001b[38;5;28;01mNone\u001b[39;00m\n\u001b[1;32m   4677\u001b[0m         \u001b[38;5;129;01mand\u001b[39;00m \u001b[38;5;241m0\u001b[39m \u001b[38;5;241m<\u001b[39m bbox\u001b[38;5;241m.\u001b[39mwidth \u001b[38;5;241m<\u001b[39m np\u001b[38;5;241m.\u001b[39minf\n\u001b[1;32m   4678\u001b[0m         \u001b[38;5;129;01mand\u001b[39;00m \u001b[38;5;241m0\u001b[39m \u001b[38;5;241m<\u001b[39m bbox\u001b[38;5;241m.\u001b[39mheight \u001b[38;5;241m<\u001b[39m np\u001b[38;5;241m.\u001b[39minf):\n\u001b[1;32m   4679\u001b[0m     bb\u001b[38;5;241m.\u001b[39mappend(bbox)\n",
      "File \u001b[0;32m~/anaconda3/envs/adaptive39/lib/python3.9/site-packages/matplotlib/legend.py:915\u001b[0m, in \u001b[0;36mLegend.get_tightbbox\u001b[0;34m(self, renderer)\u001b[0m\n\u001b[1;32m    913\u001b[0m \u001b[38;5;28;01mdef\u001b[39;00m \u001b[38;5;21mget_tightbbox\u001b[39m(\u001b[38;5;28mself\u001b[39m, renderer):\n\u001b[1;32m    914\u001b[0m     \u001b[38;5;66;03m# docstring inherited\u001b[39;00m\n\u001b[0;32m--> 915\u001b[0m     \u001b[38;5;28;01mreturn\u001b[39;00m \u001b[38;5;28;43mself\u001b[39;49m\u001b[38;5;241;43m.\u001b[39;49m\u001b[43m_legend_box\u001b[49m\u001b[38;5;241;43m.\u001b[39;49m\u001b[43mget_window_extent\u001b[49m\u001b[43m(\u001b[49m\u001b[43mrenderer\u001b[49m\u001b[43m)\u001b[49m\n",
      "File \u001b[0;32m~/anaconda3/envs/adaptive39/lib/python3.9/site-packages/matplotlib/offsetbox.py:351\u001b[0m, in \u001b[0;36mOffsetBox.get_window_extent\u001b[0;34m(self, renderer)\u001b[0m\n\u001b[1;32m    348\u001b[0m \u001b[38;5;28;01mdef\u001b[39;00m \u001b[38;5;21mget_window_extent\u001b[39m(\u001b[38;5;28mself\u001b[39m, renderer):\n\u001b[1;32m    349\u001b[0m     \u001b[38;5;66;03m# docstring inherited\u001b[39;00m\n\u001b[1;32m    350\u001b[0m     w, h, xd, yd, offsets \u001b[38;5;241m=\u001b[39m \u001b[38;5;28mself\u001b[39m\u001b[38;5;241m.\u001b[39mget_extent_offsets(renderer)\n\u001b[0;32m--> 351\u001b[0m     px, py \u001b[38;5;241m=\u001b[39m \u001b[38;5;28;43mself\u001b[39;49m\u001b[38;5;241;43m.\u001b[39;49m\u001b[43mget_offset\u001b[49m\u001b[43m(\u001b[49m\u001b[43mw\u001b[49m\u001b[43m,\u001b[49m\u001b[43m \u001b[49m\u001b[43mh\u001b[49m\u001b[43m,\u001b[49m\u001b[43m \u001b[49m\u001b[43mxd\u001b[49m\u001b[43m,\u001b[49m\u001b[43m \u001b[49m\u001b[43myd\u001b[49m\u001b[43m,\u001b[49m\u001b[43m \u001b[49m\u001b[43mrenderer\u001b[49m\u001b[43m)\u001b[49m\n\u001b[1;32m    352\u001b[0m     \u001b[38;5;28;01mreturn\u001b[39;00m mtransforms\u001b[38;5;241m.\u001b[39mBbox\u001b[38;5;241m.\u001b[39mfrom_bounds(px \u001b[38;5;241m-\u001b[39m xd, py \u001b[38;5;241m-\u001b[39m yd, w, h)\n",
      "File \u001b[0;32m~/anaconda3/envs/adaptive39/lib/python3.9/site-packages/matplotlib/offsetbox.py:290\u001b[0m, in \u001b[0;36mOffsetBox.get_offset\u001b[0;34m(self, width, height, xdescent, ydescent, renderer)\u001b[0m\n\u001b[1;32m    275\u001b[0m \u001b[38;5;28;01mdef\u001b[39;00m \u001b[38;5;21mget_offset\u001b[39m(\u001b[38;5;28mself\u001b[39m, width, height, xdescent, ydescent, renderer):\n\u001b[1;32m    276\u001b[0m \u001b[38;5;250m    \u001b[39m\u001b[38;5;124;03m\"\"\"\u001b[39;00m\n\u001b[1;32m    277\u001b[0m \u001b[38;5;124;03m    Return the offset as a tuple (x, y).\u001b[39;00m\n\u001b[1;32m    278\u001b[0m \n\u001b[0;32m   (...)\u001b[0m\n\u001b[1;32m    288\u001b[0m \n\u001b[1;32m    289\u001b[0m \u001b[38;5;124;03m    \"\"\"\u001b[39;00m\n\u001b[0;32m--> 290\u001b[0m     \u001b[38;5;28;01mreturn\u001b[39;00m (\u001b[38;5;28;43mself\u001b[39;49m\u001b[38;5;241;43m.\u001b[39;49m\u001b[43m_offset\u001b[49m\u001b[43m(\u001b[49m\u001b[43mwidth\u001b[49m\u001b[43m,\u001b[49m\u001b[43m \u001b[49m\u001b[43mheight\u001b[49m\u001b[43m,\u001b[49m\u001b[43m \u001b[49m\u001b[43mxdescent\u001b[49m\u001b[43m,\u001b[49m\u001b[43m \u001b[49m\u001b[43mydescent\u001b[49m\u001b[43m,\u001b[49m\u001b[43m \u001b[49m\u001b[43mrenderer\u001b[49m\u001b[43m)\u001b[49m\n\u001b[1;32m    291\u001b[0m             \u001b[38;5;28;01mif\u001b[39;00m callable(\u001b[38;5;28mself\u001b[39m\u001b[38;5;241m.\u001b[39m_offset)\n\u001b[1;32m    292\u001b[0m             \u001b[38;5;28;01melse\u001b[39;00m \u001b[38;5;28mself\u001b[39m\u001b[38;5;241m.\u001b[39m_offset)\n",
      "File \u001b[0;32m~/anaconda3/envs/adaptive39/lib/python3.9/site-packages/matplotlib/legend.py:589\u001b[0m, in \u001b[0;36mLegend._findoffset\u001b[0;34m(self, width, height, xdescent, ydescent, renderer)\u001b[0m\n\u001b[1;32m    586\u001b[0m \u001b[38;5;250m\u001b[39m\u001b[38;5;124;03m\"\"\"Helper function to locate the legend.\"\"\"\u001b[39;00m\n\u001b[1;32m    588\u001b[0m \u001b[38;5;28;01mif\u001b[39;00m \u001b[38;5;28mself\u001b[39m\u001b[38;5;241m.\u001b[39m_loc \u001b[38;5;241m==\u001b[39m \u001b[38;5;241m0\u001b[39m:  \u001b[38;5;66;03m# \"best\".\u001b[39;00m\n\u001b[0;32m--> 589\u001b[0m     x, y \u001b[38;5;241m=\u001b[39m \u001b[38;5;28;43mself\u001b[39;49m\u001b[38;5;241;43m.\u001b[39;49m\u001b[43m_find_best_position\u001b[49m\u001b[43m(\u001b[49m\u001b[43mwidth\u001b[49m\u001b[43m,\u001b[49m\u001b[43m \u001b[49m\u001b[43mheight\u001b[49m\u001b[43m,\u001b[49m\u001b[43m \u001b[49m\u001b[43mrenderer\u001b[49m\u001b[43m)\u001b[49m\n\u001b[1;32m    590\u001b[0m \u001b[38;5;28;01melif\u001b[39;00m \u001b[38;5;28mself\u001b[39m\u001b[38;5;241m.\u001b[39m_loc \u001b[38;5;129;01min\u001b[39;00m Legend\u001b[38;5;241m.\u001b[39mcodes\u001b[38;5;241m.\u001b[39mvalues():  \u001b[38;5;66;03m# Fixed location.\u001b[39;00m\n\u001b[1;32m    591\u001b[0m     bbox \u001b[38;5;241m=\u001b[39m Bbox\u001b[38;5;241m.\u001b[39mfrom_bounds(\u001b[38;5;241m0\u001b[39m, \u001b[38;5;241m0\u001b[39m, width, height)\n",
      "File \u001b[0;32m~/anaconda3/envs/adaptive39/lib/python3.9/site-packages/matplotlib/legend.py:1015\u001b[0m, in \u001b[0;36mLegend._find_best_position\u001b[0;34m(self, width, height, renderer, consider)\u001b[0m\n\u001b[1;32m   1011\u001b[0m \u001b[38;5;28;01massert\u001b[39;00m \u001b[38;5;28mself\u001b[39m\u001b[38;5;241m.\u001b[39misaxes  \u001b[38;5;66;03m# always holds, as this is only called internally\u001b[39;00m\n\u001b[1;32m   1013\u001b[0m start_time \u001b[38;5;241m=\u001b[39m time\u001b[38;5;241m.\u001b[39mperf_counter()\n\u001b[0;32m-> 1015\u001b[0m bboxes, lines, offsets \u001b[38;5;241m=\u001b[39m \u001b[38;5;28;43mself\u001b[39;49m\u001b[38;5;241;43m.\u001b[39;49m\u001b[43m_auto_legend_data\u001b[49m\u001b[43m(\u001b[49m\u001b[43m)\u001b[49m\n\u001b[1;32m   1017\u001b[0m bbox \u001b[38;5;241m=\u001b[39m Bbox\u001b[38;5;241m.\u001b[39mfrom_bounds(\u001b[38;5;241m0\u001b[39m, \u001b[38;5;241m0\u001b[39m, width, height)\n\u001b[1;32m   1018\u001b[0m \u001b[38;5;28;01mif\u001b[39;00m consider \u001b[38;5;129;01mis\u001b[39;00m \u001b[38;5;28;01mNone\u001b[39;00m:\n",
      "File \u001b[0;32m~/anaconda3/envs/adaptive39/lib/python3.9/site-packages/matplotlib/legend.py:856\u001b[0m, in \u001b[0;36mLegend._auto_legend_data\u001b[0;34m(self)\u001b[0m\n\u001b[1;32m    852\u001b[0m     bboxes\u001b[38;5;241m.\u001b[39mappend(\n\u001b[1;32m    853\u001b[0m         artist\u001b[38;5;241m.\u001b[39mget_bbox()\u001b[38;5;241m.\u001b[39mtransformed(artist\u001b[38;5;241m.\u001b[39mget_data_transform()))\n\u001b[1;32m    854\u001b[0m \u001b[38;5;28;01melif\u001b[39;00m \u001b[38;5;28misinstance\u001b[39m(artist, Patch):\n\u001b[1;32m    855\u001b[0m     bboxes\u001b[38;5;241m.\u001b[39mappend(\n\u001b[0;32m--> 856\u001b[0m         \u001b[43martist\u001b[49m\u001b[38;5;241;43m.\u001b[39;49m\u001b[43mget_path\u001b[49m\u001b[43m(\u001b[49m\u001b[43m)\u001b[49m\u001b[38;5;241;43m.\u001b[39;49m\u001b[43mget_extents\u001b[49m\u001b[43m(\u001b[49m\u001b[43martist\u001b[49m\u001b[38;5;241;43m.\u001b[39;49m\u001b[43mget_transform\u001b[49m\u001b[43m(\u001b[49m\u001b[43m)\u001b[49m\u001b[43m)\u001b[49m)\n\u001b[1;32m    857\u001b[0m \u001b[38;5;28;01melif\u001b[39;00m \u001b[38;5;28misinstance\u001b[39m(artist, Collection):\n\u001b[1;32m    858\u001b[0m     _, transOffset, hoffsets, _ \u001b[38;5;241m=\u001b[39m artist\u001b[38;5;241m.\u001b[39m_prepare_points()\n",
      "File \u001b[0;32m~/anaconda3/envs/adaptive39/lib/python3.9/site-packages/matplotlib/path.py:614\u001b[0m, in \u001b[0;36mPath.get_extents\u001b[0;34m(self, transform, **kwargs)\u001b[0m\n\u001b[1;32m    612\u001b[0m \u001b[38;5;28;01mfrom\u001b[39;00m \u001b[38;5;21;01m.\u001b[39;00m\u001b[38;5;21;01mtransforms\u001b[39;00m \u001b[38;5;28;01mimport\u001b[39;00m Bbox\n\u001b[1;32m    613\u001b[0m \u001b[38;5;28;01mif\u001b[39;00m transform \u001b[38;5;129;01mis\u001b[39;00m \u001b[38;5;129;01mnot\u001b[39;00m \u001b[38;5;28;01mNone\u001b[39;00m:\n\u001b[0;32m--> 614\u001b[0m     \u001b[38;5;28mself\u001b[39m \u001b[38;5;241m=\u001b[39m \u001b[43mtransform\u001b[49m\u001b[38;5;241;43m.\u001b[39;49m\u001b[43mtransform_path\u001b[49m(\u001b[38;5;28mself\u001b[39m)\n\u001b[1;32m    615\u001b[0m \u001b[38;5;28;01mif\u001b[39;00m \u001b[38;5;28mself\u001b[39m\u001b[38;5;241m.\u001b[39mcodes \u001b[38;5;129;01mis\u001b[39;00m \u001b[38;5;28;01mNone\u001b[39;00m:\n\u001b[1;32m    616\u001b[0m     xys \u001b[38;5;241m=\u001b[39m \u001b[38;5;28mself\u001b[39m\u001b[38;5;241m.\u001b[39mvertices\n",
      "\u001b[0;31mKeyboardInterrupt\u001b[0m: "
     ]
    },
    {
     "data": {
      "image/png": "[encoded data removed]",
      "text/plain": [
       "<Figure size 960x720 with 1 Axes>"
      ]
     },
     "metadata": {},
     "output_type": "display_data"
    }
   ],
   "source": [
    "online_eval_dataloader = get_dataloader(online_eval_dataset, batch_size=1, shuffle=False)\n",
    "\n",
    "adaptive_trajectron.reset_adaptive_info()\n",
    "\n",
    "N_SAMPLES = 1001\n",
    "\n",
    "outer_pbar = tqdm(\n",
    "    online_eval_dataloader,\n",
    "    total=min(N_SAMPLES, len(online_eval_dataloader)),\n",
    "    desc=f'Adaptive Eval PH={prediction_sec}',\n",
    "    position=0,\n",
    ")\n",
    "\n",
    "plot_per_step = True\n",
    "\n",
    "curr_agent: str = None\n",
    "agent_ts: int = 0\n",
    "online_batch: AgentBatch\n",
    "for data_sample, online_batch in enumerate(outer_pbar):\n",
    "    if data_sample >= N_SAMPLES:\n",
    "        outer_pbar.close()\n",
    "        break\n",
    "            \n",
    "    if online_batch.agent_name[0] != curr_agent:\n",
    "        # Resetting the K_n, L_n for each Bayesian last layer.\n",
    "        adaptive_trajectron.reset_adaptive_info()\n",
    "        \n",
    "        # # Resetting the finetune baseline to its base.\n",
    "        # finetune_trajectron, _ = load_model(\n",
    "        #     base_model, device, epoch=base_checkpoint,\n",
    "        #     custom_hyperparams={\"trajdata_cache_dir\": \"/home/bivanovic/.unified_data_cache\",\n",
    "        #                         \"single_mode_multi_sample\": False}\n",
    "        # )\n",
    "        # k0_finetune_trajectron, _ = load_model(\n",
    "        #     k0_model, device, epoch=k0_checkpoint,\n",
    "        #     custom_hyperparams={\"trajdata_cache_dir\": \"/home/bivanovic/.unified_data_cache\",\n",
    "        #                         \"single_mode_multi_sample\": False}\n",
    "        # )\n",
    "\n",
    "        curr_agent = online_batch.agent_name[0]\n",
    "        agent_ts: int = 0\n",
    "        \n",
    "    with torch.no_grad():\n",
    "        # This is the inference call that internally updates L_n and K_n.\n",
    "        adaptive_trajectron.adaptive_predict(\n",
    "            online_batch,\n",
    "            update_mode=UpdateMode.ITERATIVE\n",
    "        )\n",
    "    \n",
    "    # finetune_update(finetune_trajectron, online_batch)\n",
    "    # finetune_last_layer_update(k0_finetune_trajectron, online_batch)\n",
    "    \n",
    "    # # This is effectively measuring number of updates/observed data points.\n",
    "    # agent_ts += 1\n",
    "    \n",
    "    if agent_ts % 1 == 0:\n",
    "        per_agent_plot(adaptive_trajectron, \"Ours\", online_batch, agent_ts, plot=plot_per_step)\n",
    "            \n",
    "    # This is effectively measuring the most-recently seen timestep.\n",
    "    agent_ts += 1"
   ]
  },
  {
   "cell_type": "code",
   "execution_count": null,
   "metadata": {},
   "outputs": [],
   "source": []
  }
 ],
 "metadata": {
  "kernelspec": {
   "display_name": "Python 3 (ipykernel)",
   "language": "python",
   "name": "python3"
  },
  "language_info": {
   "codemirror_mode": {
    "name": "ipython",
    "version": 3
   },
   "file_extension": ".py",
   "mimetype": "text/x-python",
   "name": "python",
   "nbconvert_exporter": "python",
   "pygments_lexer": "ipython3",
   "version": "3.9.16"
  },
  "vscode": {
   "interpreter": {
    "hash": "582a2cc519722524f94eff7e4ee1cc2d34806c213f7eaf8391fe9bc7bccb4852"
   }
  }
 },
 "nbformat": 4,
 "nbformat_minor": 4
}
